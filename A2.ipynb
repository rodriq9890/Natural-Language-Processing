{
 "cells": [
  {
   "cell_type": "markdown",
   "metadata": {},
   "source": [
    "## DS-UA 301 Assignment 2"
   ]
  },
  {
   "cell_type": "markdown",
   "metadata": {},
   "source": [
    "Welcome back! In this notebook, we will explore and practice several foundational concepts and techniques in Natural Language Processing, specifically in the \"operate\" stage: \n",
    "+ Transforming documents into numbers\n",
    "+ Characterising documents\n",
    "+ Comparing documents \n",
    "+ Sentiment analysis\n",
    "\n",
    "We'll also *continue to* think about approaching our NLP work from a hypothesis-driven approach. I know you're probably sick of this, but I cannot overstate how important and useful it is to be super comfortable with thinking like this for all things job, discovery, and satisfaction-related (I think my claims are getting bolder as we go, but I stand by them!).\n",
    "\n",
    "Some tips (mostly the same as before, but good reminders): \n",
    "+ As with Assignment 1, you may use any data you like (built-in NLTK or something else!) as long as you are able to complete all the prompts below.\n",
    "+ As with Assignment 1, you're welcome to use a subset or the full dataset you plan to use for the project. No need to do the same thing twice. If you're still working on collecting your data, I suggest working with a \"toy\" mini-set (again, as long as it's big enough to complete the prompts).\n",
    "+ As before, while we will be grading you for correctness and completeness; i.e., you must correctly complete the specific tasks we ask of you, there is rarely a single \"right answer\" when it comes to *which* strategy to use. We care more that you thoughtfully and transparently explain your reasoning, rather than worrying whether you're \"right\".\n",
    "+ As before, 2-3 sentences (at most!) for the non-code questions should generally be enough. No need for essays!\n",
    "\n",
    "Finally, each question is worth 1 point, for 60 points total."
   ]
  },
  {
   "cell_type": "markdown",
   "metadata": {},
   "source": [
    "## 1. Any pre-processing needed"
   ]
  },
  {
   "cell_type": "markdown",
   "metadata": {},
   "source": [
    "(a) We are going to begin this assignment from text that has already been pre-processed. You may thus use your text and/or program from Assignment 1 to pre-process your text here (no need to comment or explain anything, as you already did that). If you're using brand new text, you might need to do a bit more work, but a little extra practice won't work.\n",
    "\n",
    "Complete any pre-processing you need to do here, whether it's copying over your work from Assignment 1 or borrowing some of it as you apply it to a new text. \n",
    "\n",
    "*(Recap: what counts as pre-processing? Everything you did in Assignment 1!)*\n",
    "\n",
    "\n",
    "http://www.thegrammarlab.com/?nor-portfolio=corpus-of-presidential-speeches-cops-and-a-clintontrump-corpus\n",
    "\n",
    "^^^^\n",
    "\n",
    "Where I got the data from!"
   ]
  },
  {
   "cell_type": "code",
   "execution_count": 49,
   "metadata": {},
   "outputs": [],
   "source": [
    "import nltk\n",
    "import string\n",
    "from collections import Counter\n",
    "import pandas as pd\n",
    "import numpy as np\n",
    "import spacy\n",
    "from spacy_readability import Readability\n",
    "statess = [\"Alaska\", \"Alabama\", \"Arkansas\", \"American Samoa\", \"Arizona\", \"California\", \"Colorado\", \"Connecticut\", \"District \", \"of Columbia\", \n",
    "               \"Delaware\", \"Florida\", \"Georgia\", \"Guam\", \"Hawaii\", \"Iowa\", \"Idaho\", \"Illinois\", \"Indiana\", \"Kansas\", \"Kentucky\", \"Louisiana\", \"Massachusetts\", \"Maryland\", \n",
    "               \"Maine\", \"Michigan\", \"Minnesota\", \"Missouri\", \"Mississippi\", \"Montana\", \"North Carolina\", \"North Dakota\", \"Nebraska\", \"New Hampshire\", \"New Jersey\", \"New Mexico\", \n",
    "               \"Nevada\", \"New York\", \"Ohio\", \"Oklahoma\", \"Oregon\", \"Pennsylvania\", \"Puerto Rico\", \"Rhode Island\", \"South Carolina\", \"South Dakota\", \"Tennessee\", \"Texas\", \"Utah\", \"Virginia\", \n",
    "               \"Virgin Islands\", \"Vermont\", \"Washington\", \"Wisconsin\", \"West Virginia\", \"Wyoming\"]\n",
    "states = [word.lower() for word in statess]\n",
    "stop_words = set(nltk.corpus.stopwords.words('english'))\n",
    "clinton = open(\"clinton.txt\", \"r\").read().lower()\n",
    "trump = open(\"trump.txt\", \"r\").read().lower()\n",
    "clinton_raw = nltk.word_tokenize(clinton)\n",
    "trump_raw = nltk.word_tokenize(trump)\n",
    "removable_words = ['applause', \"'s\" , \"'re\", '--', \"n't\", 'title=', \"''\", \"'ve\", '...', 'delivers', 'remarks', \"\\\\users\\\\rodrigo\", \"gaming\", \"pc\\\\dropbox\\\\nlp\", \"corpus\\\\clinton-trump\", \"gaming\", \n",
    "                   '``', 'c', '\\\\users\\\\rodrigo', 'rl\\\\homework', '2\\\\clinton-trump', 'presidential', 'audience']\n",
    "clinton_tokens_stopwords = [elem for elem in clinton_raw if elem not in string.punctuation and elem not in removable_words]\n",
    "trump_tokens_stopwords  = [elem for elem in trump_raw if elem not in string.punctuation and elem not in removable_words]\n",
    "clinton_tokens = [elem for elem in clinton_raw if elem not in string.punctuation and elem not in stop_words and elem not in removable_words]\n",
    "trump_tokens  = [elem for elem in trump_raw if elem not in string.punctuation and elem not in stop_words and elem not in removable_words]\n",
    "proper_nouns = ['trump', 'donald', 'hillary', 'clinton', 'america']\n",
    "for word in range(len(clinton_tokens)):\n",
    "    if clinton_tokens[word] in proper_nouns or clinton_tokens[word] in states:\n",
    "        clinton_tokens[word] = clinton_tokens[word].capitalize()\n",
    "for word in range(len(trump_tokens)):\n",
    "    if trump_tokens[word] in proper_nouns or trump_tokens[word] in states:\n",
    "        trump_tokens[word] = trump_tokens[word].capitalize()\n",
    "clinton_postag = nltk.pos_tag(clinton_tokens)\n",
    "trump_postag = nltk.pos_tag(trump_tokens)"
   ]
  },
  {
   "cell_type": "markdown",
   "metadata": {},
   "source": [
    "## 2. Transforming documents into numbers\n",
    "\n",
    "We're going to need to turn our documents into numbers in order to proceed. We'll take care of that in this step."
   ]
  },
  {
   "cell_type": "markdown",
   "metadata": {},
   "source": [
    "(a) First, to make sure we're clear on what we're doing here: What is the Bag of Words (BOW) assumption, and why do we use it? What's so useful about it?"
   ]
  },
  {
   "cell_type": "markdown",
   "metadata": {},
   "source": [
    "BOW is a way to simplify a text to be able to be used in modeling. "
   ]
  },
  {
   "cell_type": "markdown",
   "metadata": {},
   "source": [
    "(b) What is at least one treadeoff, or shortcoming, when it comes to working under the BOW assumption?"
   ]
  },
  {
   "cell_type": "markdown",
   "metadata": {},
   "source": [
    "The problem is it simplifies perhaps too much, and several words could appear twice in the bag. "
   ]
  },
  {
   "cell_type": "markdown",
   "metadata": {},
   "source": [
    "(c) It's time for our simplest expression of text as numeric data: the Document-Term Matrix (DTM). Convert your corpus into a DTM based simply on word counts. You may or may not have stop words and/or be working with stems/lemmas depending on your decisions you made in Question 1.\n",
    "\n",
    "*(Note: you can always go back and adjust your preprocessing decisions as you work through Assignment 2, just make sure to turn in the final product. There's no need to re-explain your pre-processing decisions in this Assignment, even if you tweak it as you go, as we got plenty of that last time and there's more to come in the project.)*"
   ]
  },
  {
   "cell_type": "code",
   "execution_count": 2,
   "metadata": {},
   "outputs": [],
   "source": [
    "t_count = Counter()\n",
    "c_count = Counter()\n",
    "c_count.update(word for word in clinton_tokens)\n",
    "t_count.update(word for word in trump_tokens)\n",
    "clinton_count = dict(c_count)\n",
    "trump_count = dict(t_count)\n",
    "dtm1 = pd.DataFrame(trump_count, index=[0]) \n",
    "dtm2 = pd.DataFrame(clinton_count, index=[1]) \n",
    "dtm = dtm1.merge(dtm2, how='outer')"
   ]
  },
  {
   "cell_type": "code",
   "execution_count": 3,
   "metadata": {},
   "outputs": [
    {
     "data": {
      "text/html": [
       "<div>\n",
       "<style scoped>\n",
       "    .dataframe tbody tr th:only-of-type {\n",
       "        vertical-align: middle;\n",
       "    }\n",
       "\n",
       "    .dataframe tbody tr th {\n",
       "        vertical-align: top;\n",
       "    }\n",
       "\n",
       "    .dataframe thead th {\n",
       "        text-align: right;\n",
       "    }\n",
       "</style>\n",
       "<table border=\"1\" class=\"dataframe\">\n",
       "  <thead>\n",
       "    <tr style=\"text-align: right;\">\n",
       "      <th></th>\n",
       "      <th>Donald</th>\n",
       "      <th>Trump</th>\n",
       "      <th>republican</th>\n",
       "      <th>candidate</th>\n",
       "      <th>volunteers</th>\n",
       "      <th>national</th>\n",
       "      <th>convention</th>\n",
       "      <th>date</th>\n",
       "      <th>2016-07-22</th>\n",
       "      <th>pence</th>\n",
       "      <th>...</th>\n",
       "      <th>worship</th>\n",
       "      <th>achieving</th>\n",
       "      <th>holton</th>\n",
       "      <th>graceful</th>\n",
       "      <th>crisscrossed</th>\n",
       "      <th>four-month-old</th>\n",
       "      <th>setbacks</th>\n",
       "      <th>deserving</th>\n",
       "      <th>seasons</th>\n",
       "      <th>Total</th>\n",
       "    </tr>\n",
       "  </thead>\n",
       "  <tbody>\n",
       "    <tr>\n",
       "      <th>Trump</th>\n",
       "      <td>385.0</td>\n",
       "      <td>2479.0</td>\n",
       "      <td>176.0</td>\n",
       "      <td>132.0</td>\n",
       "      <td>5.0</td>\n",
       "      <td>159.0</td>\n",
       "      <td>38.0</td>\n",
       "      <td>99.0</td>\n",
       "      <td>1.0</td>\n",
       "      <td>81.0</td>\n",
       "      <td>...</td>\n",
       "      <td>0.0</td>\n",
       "      <td>0.0</td>\n",
       "      <td>0.0</td>\n",
       "      <td>0.0</td>\n",
       "      <td>0.0</td>\n",
       "      <td>0.0</td>\n",
       "      <td>0.0</td>\n",
       "      <td>0.0</td>\n",
       "      <td>0.0</td>\n",
       "      <td>223084.0</td>\n",
       "    </tr>\n",
       "    <tr>\n",
       "      <th>Clinton</th>\n",
       "      <td>308.0</td>\n",
       "      <td>447.0</td>\n",
       "      <td>50.0</td>\n",
       "      <td>58.0</td>\n",
       "      <td>4.0</td>\n",
       "      <td>87.0</td>\n",
       "      <td>55.0</td>\n",
       "      <td>36.0</td>\n",
       "      <td>0.0</td>\n",
       "      <td>1.0</td>\n",
       "      <td>...</td>\n",
       "      <td>1.0</td>\n",
       "      <td>1.0</td>\n",
       "      <td>1.0</td>\n",
       "      <td>1.0</td>\n",
       "      <td>1.0</td>\n",
       "      <td>1.0</td>\n",
       "      <td>2.0</td>\n",
       "      <td>1.0</td>\n",
       "      <td>1.0</td>\n",
       "      <td>61819.0</td>\n",
       "    </tr>\n",
       "    <tr>\n",
       "      <th>Total</th>\n",
       "      <td>693.0</td>\n",
       "      <td>2926.0</td>\n",
       "      <td>226.0</td>\n",
       "      <td>190.0</td>\n",
       "      <td>9.0</td>\n",
       "      <td>246.0</td>\n",
       "      <td>93.0</td>\n",
       "      <td>135.0</td>\n",
       "      <td>1.0</td>\n",
       "      <td>82.0</td>\n",
       "      <td>...</td>\n",
       "      <td>1.0</td>\n",
       "      <td>1.0</td>\n",
       "      <td>1.0</td>\n",
       "      <td>1.0</td>\n",
       "      <td>1.0</td>\n",
       "      <td>1.0</td>\n",
       "      <td>2.0</td>\n",
       "      <td>1.0</td>\n",
       "      <td>1.0</td>\n",
       "      <td>284903.0</td>\n",
       "    </tr>\n",
       "  </tbody>\n",
       "</table>\n",
       "<p>3 rows × 12488 columns</p>\n",
       "</div>"
      ],
      "text/plain": [
       "         Donald   Trump  republican  candidate  volunteers  national  \\\n",
       "Trump     385.0  2479.0       176.0      132.0         5.0     159.0   \n",
       "Clinton   308.0   447.0        50.0       58.0         4.0      87.0   \n",
       "Total     693.0  2926.0       226.0      190.0         9.0     246.0   \n",
       "\n",
       "         convention   date  2016-07-22  pence  ...  worship  achieving  \\\n",
       "Trump          38.0   99.0         1.0   81.0  ...      0.0        0.0   \n",
       "Clinton        55.0   36.0         0.0    1.0  ...      1.0        1.0   \n",
       "Total          93.0  135.0         1.0   82.0  ...      1.0        1.0   \n",
       "\n",
       "         holton  graceful  crisscrossed  four-month-old  setbacks  deserving  \\\n",
       "Trump       0.0       0.0           0.0             0.0       0.0        0.0   \n",
       "Clinton     1.0       1.0           1.0             1.0       2.0        1.0   \n",
       "Total       1.0       1.0           1.0             1.0       2.0        1.0   \n",
       "\n",
       "         seasons     Total  \n",
       "Trump        0.0  223084.0  \n",
       "Clinton      1.0   61819.0  \n",
       "Total        1.0  284903.0  \n",
       "\n",
       "[3 rows x 12488 columns]"
      ]
     },
     "execution_count": 3,
     "metadata": {},
     "output_type": "execute_result"
    }
   ],
   "source": [
    "dtm = dtm.rename(index={0: 'Trump', 1:'Clinton'}).fillna(0)\n",
    "dtm.loc['Total']= dtm.sum()\n",
    "dtm['Total'] = dtm.sum(axis=1)\n",
    "dtm"
   ]
  },
  {
   "cell_type": "markdown",
   "metadata": {},
   "source": [
    "(d) DTMs are typically sparse matrices. What do we mean by \"sparse matrix\", and is yours one? How do you know?"
   ]
  },
  {
   "cell_type": "markdown",
   "metadata": {},
   "source": [
    "Not really, there are only two indices and I don't think there are many words that either candidate would use that the other wouldn't. "
   ]
  },
  {
   "cell_type": "markdown",
   "metadata": {},
   "source": [
    "(e) We also discussed that DTMs require lossy compression. What is meant by \"lossy compression\" and why might it matter for some analyses? Does it matter for yours?"
   ]
  },
  {
   "cell_type": "markdown",
   "metadata": {},
   "source": [
    "Lossy compression means losing some of the original information on a dataset to allow for smaller sizes. I don't know if it matters much in this case to be honest since I counted every single word by code and not by any other method from NLTK or any other module."
   ]
  },
  {
   "cell_type": "markdown",
   "metadata": {},
   "source": [
    "(f) DTMs do not have to be limited top single words; we can use n-grams as well. Create a DTM based on an n-gram with an *n* size you think is appropriate for your text. (If you think unigrams are most appropriate, indulge me and pick a runner-up :)!)"
   ]
  },
  {
   "cell_type": "code",
   "execution_count": 4,
   "metadata": {},
   "outputs": [],
   "source": [
    "bgs_trump = nltk.trigrams(trump_tokens)\n",
    "fdist_trump = nltk.FreqDist(bgs_trump)\n",
    "bgs_clinton = nltk.trigrams(clinton_tokens)\n",
    "fdist_clinton = nltk.FreqDist(bgs_clinton)\n",
    "df1_ngram = pd.DataFrame(dict(fdist_trump), index=[0]) \n",
    "df2_ngram = pd.DataFrame(dict(fdist_clinton), index=[0]) \n",
    "dtm_ngram = df1_ngram.merge(df2_ngram, how='outer')"
   ]
  },
  {
   "cell_type": "code",
   "execution_count": 5,
   "metadata": {},
   "outputs": [
    {
     "data": {
      "text/html": [
       "<div>\n",
       "<style scoped>\n",
       "    .dataframe tbody tr th:only-of-type {\n",
       "        vertical-align: middle;\n",
       "    }\n",
       "\n",
       "    .dataframe tbody tr th {\n",
       "        vertical-align: top;\n",
       "    }\n",
       "\n",
       "    .dataframe thead tr th {\n",
       "        text-align: left;\n",
       "    }\n",
       "</style>\n",
       "<table border=\"1\" class=\"dataframe\">\n",
       "  <thead>\n",
       "    <tr>\n",
       "      <th></th>\n",
       "      <th>Total</th>\n",
       "      <th>make</th>\n",
       "      <th>Trump</th>\n",
       "      <th>going</th>\n",
       "      <th>Hillary</th>\n",
       "      <th>bring</th>\n",
       "      <th>usa</th>\n",
       "      <th>wall</th>\n",
       "      <th>going</th>\n",
       "      <th>Donald</th>\n",
       "      <th>...</th>\n",
       "      <th>want</th>\n",
       "      <th>protect</th>\n",
       "      <th>country</th>\n",
       "      <th>potential</th>\n",
       "      <th>adversaries</th>\n",
       "      <th>grow</th>\n",
       "      <th>missile</th>\n",
       "      <th>programs</th>\n",
       "      <th>u.s.</th>\n",
       "      <th>goes</th>\n",
       "    </tr>\n",
       "    <tr>\n",
       "      <th></th>\n",
       "      <th></th>\n",
       "      <th>America</th>\n",
       "      <th>Trump</th>\n",
       "      <th>take</th>\n",
       "      <th>Clinton</th>\n",
       "      <th>back</th>\n",
       "      <th>usa</th>\n",
       "      <th>build</th>\n",
       "      <th>make</th>\n",
       "      <th>Trump</th>\n",
       "      <th>...</th>\n",
       "      <th>protect</th>\n",
       "      <th>country</th>\n",
       "      <th>potential</th>\n",
       "      <th>adversaries</th>\n",
       "      <th>grow</th>\n",
       "      <th>missile</th>\n",
       "      <th>programs</th>\n",
       "      <th>u.s.</th>\n",
       "      <th>military</th>\n",
       "      <th>hell</th>\n",
       "    </tr>\n",
       "    <tr>\n",
       "      <th></th>\n",
       "      <th></th>\n",
       "      <th>great</th>\n",
       "      <th>Trump</th>\n",
       "      <th>care</th>\n",
       "      <th>wants</th>\n",
       "      <th>jobs</th>\n",
       "      <th>usa</th>\n",
       "      <th>wall</th>\n",
       "      <th>America</th>\n",
       "      <th>republican</th>\n",
       "      <th>...</th>\n",
       "      <th>country</th>\n",
       "      <th>potential</th>\n",
       "      <th>adversaries</th>\n",
       "      <th>grow</th>\n",
       "      <th>missile</th>\n",
       "      <th>programs</th>\n",
       "      <th>u.s.</th>\n",
       "      <th>military</th>\n",
       "      <th>facilities</th>\n",
       "      <th>laughter</th>\n",
       "    </tr>\n",
       "  </thead>\n",
       "  <tbody>\n",
       "    <tr>\n",
       "      <th>Trump</th>\n",
       "      <td>223082.0</td>\n",
       "      <td>140.0</td>\n",
       "      <td>143.0</td>\n",
       "      <td>98.0</td>\n",
       "      <td>95.0</td>\n",
       "      <td>93.0</td>\n",
       "      <td>83.0</td>\n",
       "      <td>83.0</td>\n",
       "      <td>79.0</td>\n",
       "      <td>80.0</td>\n",
       "      <td>...</td>\n",
       "      <td>1.0</td>\n",
       "      <td>1.0</td>\n",
       "      <td>1.0</td>\n",
       "      <td>1.0</td>\n",
       "      <td>1.0</td>\n",
       "      <td>1.0</td>\n",
       "      <td>1.0</td>\n",
       "      <td>1.0</td>\n",
       "      <td>1.0</td>\n",
       "      <td>1.0</td>\n",
       "    </tr>\n",
       "    <tr>\n",
       "      <th>Clinton</th>\n",
       "      <td>61817.0</td>\n",
       "      <td>6.0</td>\n",
       "      <td>0.0</td>\n",
       "      <td>0.0</td>\n",
       "      <td>0.0</td>\n",
       "      <td>0.0</td>\n",
       "      <td>1.0</td>\n",
       "      <td>0.0</td>\n",
       "      <td>3.0</td>\n",
       "      <td>0.0</td>\n",
       "      <td>...</td>\n",
       "      <td>0.0</td>\n",
       "      <td>0.0</td>\n",
       "      <td>0.0</td>\n",
       "      <td>0.0</td>\n",
       "      <td>0.0</td>\n",
       "      <td>0.0</td>\n",
       "      <td>0.0</td>\n",
       "      <td>0.0</td>\n",
       "      <td>0.0</td>\n",
       "      <td>0.0</td>\n",
       "    </tr>\n",
       "    <tr>\n",
       "      <th>Total</th>\n",
       "      <td>284899.0</td>\n",
       "      <td>146.0</td>\n",
       "      <td>143.0</td>\n",
       "      <td>98.0</td>\n",
       "      <td>95.0</td>\n",
       "      <td>93.0</td>\n",
       "      <td>84.0</td>\n",
       "      <td>83.0</td>\n",
       "      <td>82.0</td>\n",
       "      <td>80.0</td>\n",
       "      <td>...</td>\n",
       "      <td>1.0</td>\n",
       "      <td>1.0</td>\n",
       "      <td>1.0</td>\n",
       "      <td>1.0</td>\n",
       "      <td>1.0</td>\n",
       "      <td>1.0</td>\n",
       "      <td>1.0</td>\n",
       "      <td>1.0</td>\n",
       "      <td>1.0</td>\n",
       "      <td>1.0</td>\n",
       "    </tr>\n",
       "  </tbody>\n",
       "</table>\n",
       "<p>3 rows × 234089 columns</p>\n",
       "</div>"
      ],
      "text/plain": [
       "            Total    make  Trump going Hillary bring   usa  wall   going  \\\n",
       "                  America  Trump  take Clinton  back   usa build    make   \n",
       "                    great  Trump  care   wants  jobs   usa  wall America   \n",
       "Trump    223082.0   140.0  143.0  98.0    95.0  93.0  83.0  83.0    79.0   \n",
       "Clinton   61817.0     6.0    0.0   0.0     0.0   0.0   1.0   0.0     3.0   \n",
       "Total    284899.0   146.0  143.0  98.0    95.0  93.0  84.0  83.0    82.0   \n",
       "\n",
       "            Donald  ...    want   protect     country   potential adversaries  \\\n",
       "             Trump  ... protect   country   potential adversaries        grow   \n",
       "        republican  ... country potential adversaries        grow     missile   \n",
       "Trump         80.0  ...     1.0       1.0         1.0         1.0         1.0   \n",
       "Clinton        0.0  ...     0.0       0.0         0.0         0.0         0.0   \n",
       "Total         80.0  ...     1.0       1.0         1.0         1.0         1.0   \n",
       "\n",
       "            grow  missile programs       u.s.     goes  \n",
       "         missile programs     u.s.   military     hell  \n",
       "        programs     u.s. military facilities laughter  \n",
       "Trump        1.0      1.0      1.0        1.0      1.0  \n",
       "Clinton      0.0      0.0      0.0        0.0      0.0  \n",
       "Total        1.0      1.0      1.0        1.0      1.0  \n",
       "\n",
       "[3 rows x 234089 columns]"
      ]
     },
     "execution_count": 5,
     "metadata": {},
     "output_type": "execute_result"
    }
   ],
   "source": [
    "dtm_ngram = dtm_ngram.rename(index={0: 'Trump', 1:'Clinton'}).fillna(0)\n",
    "dtm_ngram.loc['Total']= dtm_ngram.sum()\n",
    "dtm_ngram['Total'] = dtm_ngram.sum(axis=1)\n",
    "dtm_ngram.T.sort_values(by='Total', ascending=False).T"
   ]
  },
  {
   "cell_type": "markdown",
   "metadata": {},
   "source": [
    "(g) Why did you choose that particular *n* value of n-gram? Did it improve anything in your analysis? Why or why not?"
   ]
  },
  {
   "cell_type": "markdown",
   "metadata": {},
   "source": [
    "Trigrams are good enough to catch any of trumps catch phrases, and many of Hilary's, but to be honest, her phrases aren't as memorable as Trump's. We can see this above where make America great is the top with very few aid from any of Hillary's uses of the trigram, in fact, most trigrams on top are Trump's own."
   ]
  },
  {
   "cell_type": "markdown",
   "metadata": {},
   "source": [
    "(h) Usually when we work with n-grams we retain a few that might matter for our analysis. If there are any such n-grams, please add them to your unigram-based DTM now as unique terms (you can do so however you like). Why did you retain the n-grams that you did? If you are not retaining any n-grams, why not?"
   ]
  },
  {
   "cell_type": "markdown",
   "metadata": {},
   "source": [
    "Of course I'm keeping some of these, I'm keeping the ones most unique to each candidate, to do that, I'll sort and find their most common trigrams excluding their names three times and usa*3\n",
    "\n",
    "On second thought, Hillary doesn't even have many trigrams on her dtm of trigrams, most are trumps, look below for evidence."
   ]
  },
  {
   "cell_type": "code",
   "execution_count": 6,
   "metadata": {},
   "outputs": [
    {
     "data": {
      "text/html": [
       "<div>\n",
       "<style scoped>\n",
       "    .dataframe tbody tr th:only-of-type {\n",
       "        vertical-align: middle;\n",
       "    }\n",
       "\n",
       "    .dataframe tbody tr th {\n",
       "        vertical-align: top;\n",
       "    }\n",
       "\n",
       "    .dataframe thead tr th {\n",
       "        text-align: left;\n",
       "    }\n",
       "</style>\n",
       "<table border=\"1\" class=\"dataframe\">\n",
       "  <thead>\n",
       "    <tr>\n",
       "      <th></th>\n",
       "      <th>Total</th>\n",
       "      <th colspan=\"2\" halign=\"left\">Hillary</th>\n",
       "      <th>Clinton</th>\n",
       "      <th>president</th>\n",
       "      <th>Hillary</th>\n",
       "      <th>world</th>\n",
       "      <th>every</th>\n",
       "      <th>candidate</th>\n",
       "      <th>democratic</th>\n",
       "      <th>...</th>\n",
       "      <th>say</th>\n",
       "      <th>help</th>\n",
       "      <th>everybody</th>\n",
       "      <th>help</th>\n",
       "      <th>na</th>\n",
       "      <th>something</th>\n",
       "      <th>great</th>\n",
       "      <th>America</th>\n",
       "      <th>thank</th>\n",
       "      <th>goes</th>\n",
       "    </tr>\n",
       "    <tr>\n",
       "      <th></th>\n",
       "      <th></th>\n",
       "      <th colspan=\"2\" halign=\"left\">Hillary</th>\n",
       "      <th>democratic</th>\n",
       "      <th>united</th>\n",
       "      <th>Clinton</th>\n",
       "      <th>war</th>\n",
       "      <th>single</th>\n",
       "      <th>campaign</th>\n",
       "      <th>candidate</th>\n",
       "      <th>...</th>\n",
       "      <th>help</th>\n",
       "      <th>everybody</th>\n",
       "      <th>help</th>\n",
       "      <th>gon</th>\n",
       "      <th>something</th>\n",
       "      <th>going</th>\n",
       "      <th>know</th>\n",
       "      <th>great</th>\n",
       "      <th>everybody</th>\n",
       "      <th>hell</th>\n",
       "    </tr>\n",
       "    <tr>\n",
       "      <th></th>\n",
       "      <th></th>\n",
       "      <th>Hillary</th>\n",
       "      <th>Clinton</th>\n",
       "      <th>candidate</th>\n",
       "      <th>states</th>\n",
       "      <th>democratic</th>\n",
       "      <th>ii</th>\n",
       "      <th>day</th>\n",
       "      <th>event</th>\n",
       "      <th>campaign</th>\n",
       "      <th>...</th>\n",
       "      <th>everybody</th>\n",
       "      <th>help</th>\n",
       "      <th>gon</th>\n",
       "      <th>na</th>\n",
       "      <th>going</th>\n",
       "      <th>make</th>\n",
       "      <th>make</th>\n",
       "      <th>want</th>\n",
       "      <th>really</th>\n",
       "      <th>laughter</th>\n",
       "    </tr>\n",
       "  </thead>\n",
       "  <tbody>\n",
       "    <tr>\n",
       "      <th>Trump</th>\n",
       "      <td>223082.0</td>\n",
       "      <td>0.0</td>\n",
       "      <td>1.0</td>\n",
       "      <td>0.0</td>\n",
       "      <td>41.0</td>\n",
       "      <td>1.0</td>\n",
       "      <td>5.0</td>\n",
       "      <td>7.0</td>\n",
       "      <td>59.0</td>\n",
       "      <td>0.0</td>\n",
       "      <td>...</td>\n",
       "      <td>1.0</td>\n",
       "      <td>1.0</td>\n",
       "      <td>1.0</td>\n",
       "      <td>3.0</td>\n",
       "      <td>1.0</td>\n",
       "      <td>1.0</td>\n",
       "      <td>1.0</td>\n",
       "      <td>2.0</td>\n",
       "      <td>2.0</td>\n",
       "      <td>1.0</td>\n",
       "    </tr>\n",
       "    <tr>\n",
       "      <th>Clinton</th>\n",
       "      <td>61817.0</td>\n",
       "      <td>37.0</td>\n",
       "      <td>29.0</td>\n",
       "      <td>29.0</td>\n",
       "      <td>25.0</td>\n",
       "      <td>23.0</td>\n",
       "      <td>22.0</td>\n",
       "      <td>21.0</td>\n",
       "      <td>20.0</td>\n",
       "      <td>20.0</td>\n",
       "      <td>...</td>\n",
       "      <td>0.0</td>\n",
       "      <td>0.0</td>\n",
       "      <td>0.0</td>\n",
       "      <td>0.0</td>\n",
       "      <td>0.0</td>\n",
       "      <td>0.0</td>\n",
       "      <td>0.0</td>\n",
       "      <td>0.0</td>\n",
       "      <td>0.0</td>\n",
       "      <td>0.0</td>\n",
       "    </tr>\n",
       "    <tr>\n",
       "      <th>Total</th>\n",
       "      <td>284899.0</td>\n",
       "      <td>37.0</td>\n",
       "      <td>30.0</td>\n",
       "      <td>29.0</td>\n",
       "      <td>66.0</td>\n",
       "      <td>24.0</td>\n",
       "      <td>27.0</td>\n",
       "      <td>28.0</td>\n",
       "      <td>79.0</td>\n",
       "      <td>20.0</td>\n",
       "      <td>...</td>\n",
       "      <td>1.0</td>\n",
       "      <td>1.0</td>\n",
       "      <td>1.0</td>\n",
       "      <td>3.0</td>\n",
       "      <td>1.0</td>\n",
       "      <td>1.0</td>\n",
       "      <td>1.0</td>\n",
       "      <td>2.0</td>\n",
       "      <td>2.0</td>\n",
       "      <td>1.0</td>\n",
       "    </tr>\n",
       "  </tbody>\n",
       "</table>\n",
       "<p>3 rows × 234089 columns</p>\n",
       "</div>"
      ],
      "text/plain": [
       "            Total Hillary            Clinton president    Hillary world  \\\n",
       "                  Hillary         democratic    united    Clinton   war   \n",
       "                  Hillary Clinton  candidate    states democratic    ii   \n",
       "Trump    223082.0     0.0     1.0        0.0      41.0        1.0   5.0   \n",
       "Clinton   61817.0    37.0    29.0       29.0      25.0       23.0  22.0   \n",
       "Total    284899.0    37.0    30.0       29.0      66.0       24.0  27.0   \n",
       "\n",
       "         every candidate democratic  ...       say      help everybody help  \\\n",
       "        single  campaign  candidate  ...      help everybody      help  gon   \n",
       "           day     event   campaign  ... everybody      help       gon   na   \n",
       "Trump      7.0      59.0        0.0  ...       1.0       1.0       1.0  3.0   \n",
       "Clinton   21.0      20.0       20.0  ...       0.0       0.0       0.0  0.0   \n",
       "Total     28.0      79.0       20.0  ...       1.0       1.0       1.0  3.0   \n",
       "\n",
       "               na something great America     thank     goes  \n",
       "        something     going  know   great everybody     hell  \n",
       "            going      make  make    want    really laughter  \n",
       "Trump         1.0       1.0   1.0     2.0       2.0      1.0  \n",
       "Clinton       0.0       0.0   0.0     0.0       0.0      0.0  \n",
       "Total         1.0       1.0   1.0     2.0       2.0      1.0  \n",
       "\n",
       "[3 rows x 234089 columns]"
      ]
     },
     "execution_count": 6,
     "metadata": {},
     "output_type": "execute_result"
    }
   ],
   "source": [
    "dtm_ngram.T.sort_values(by='Clinton', ascending=False).T"
   ]
  },
  {
   "cell_type": "markdown",
   "metadata": {},
   "source": [
    "Trump's are more interesting and telling of his character (confrontational and sentimental) I'll keep 2-5 because these are great for telling trump's sentiment"
   ]
  },
  {
   "cell_type": "code",
   "execution_count": 7,
   "metadata": {},
   "outputs": [
    {
     "name": "stderr",
     "output_type": "stream",
     "text": [
      "D:\\Anaconda\\lib\\site-packages\\pandas\\core\\reshape\\merge.py:618: UserWarning: merging between different levels can give an unintended result (1 levels on the left, 3 on the right)\n",
      "  warnings.warn(msg, UserWarning)\n"
     ]
    }
   ],
   "source": [
    "trump_ngrams = dtm_ngram.T.sort_values(by='Trump', ascending=False).iloc[2:6].T\n",
    "dtm = dtm.join(trump_ngrams)"
   ]
  },
  {
   "cell_type": "markdown",
   "metadata": {},
   "source": [
    "We've merged these four trigrams into the dtm!"
   ]
  },
  {
   "cell_type": "code",
   "execution_count": 8,
   "metadata": {},
   "outputs": [
    {
     "data": {
      "text/html": [
       "<div>\n",
       "<style scoped>\n",
       "    .dataframe tbody tr th:only-of-type {\n",
       "        vertical-align: middle;\n",
       "    }\n",
       "\n",
       "    .dataframe tbody tr th {\n",
       "        vertical-align: top;\n",
       "    }\n",
       "\n",
       "    .dataframe thead th {\n",
       "        text-align: right;\n",
       "    }\n",
       "</style>\n",
       "<table border=\"1\" class=\"dataframe\">\n",
       "  <thead>\n",
       "    <tr style=\"text-align: right;\">\n",
       "      <th></th>\n",
       "      <th>Donald</th>\n",
       "      <th>Trump</th>\n",
       "      <th>republican</th>\n",
       "      <th>candidate</th>\n",
       "      <th>volunteers</th>\n",
       "      <th>national</th>\n",
       "      <th>convention</th>\n",
       "      <th>date</th>\n",
       "      <th>2016-07-22</th>\n",
       "      <th>pence</th>\n",
       "      <th>...</th>\n",
       "      <th>crisscrossed</th>\n",
       "      <th>four-month-old</th>\n",
       "      <th>setbacks</th>\n",
       "      <th>deserving</th>\n",
       "      <th>seasons</th>\n",
       "      <th>Total</th>\n",
       "      <th>(make, America, great)</th>\n",
       "      <th>(going, take, care)</th>\n",
       "      <th>(Hillary, Clinton, wants)</th>\n",
       "      <th>(bring, back, jobs)</th>\n",
       "    </tr>\n",
       "  </thead>\n",
       "  <tbody>\n",
       "    <tr>\n",
       "      <th>Trump</th>\n",
       "      <td>385.0</td>\n",
       "      <td>2479.0</td>\n",
       "      <td>176.0</td>\n",
       "      <td>132.0</td>\n",
       "      <td>5.0</td>\n",
       "      <td>159.0</td>\n",
       "      <td>38.0</td>\n",
       "      <td>99.0</td>\n",
       "      <td>1.0</td>\n",
       "      <td>81.0</td>\n",
       "      <td>...</td>\n",
       "      <td>0.0</td>\n",
       "      <td>0.0</td>\n",
       "      <td>0.0</td>\n",
       "      <td>0.0</td>\n",
       "      <td>0.0</td>\n",
       "      <td>223084.0</td>\n",
       "      <td>140.0</td>\n",
       "      <td>98.0</td>\n",
       "      <td>95.0</td>\n",
       "      <td>93.0</td>\n",
       "    </tr>\n",
       "    <tr>\n",
       "      <th>Clinton</th>\n",
       "      <td>308.0</td>\n",
       "      <td>447.0</td>\n",
       "      <td>50.0</td>\n",
       "      <td>58.0</td>\n",
       "      <td>4.0</td>\n",
       "      <td>87.0</td>\n",
       "      <td>55.0</td>\n",
       "      <td>36.0</td>\n",
       "      <td>0.0</td>\n",
       "      <td>1.0</td>\n",
       "      <td>...</td>\n",
       "      <td>1.0</td>\n",
       "      <td>1.0</td>\n",
       "      <td>2.0</td>\n",
       "      <td>1.0</td>\n",
       "      <td>1.0</td>\n",
       "      <td>61819.0</td>\n",
       "      <td>6.0</td>\n",
       "      <td>0.0</td>\n",
       "      <td>0.0</td>\n",
       "      <td>0.0</td>\n",
       "    </tr>\n",
       "    <tr>\n",
       "      <th>Total</th>\n",
       "      <td>693.0</td>\n",
       "      <td>2926.0</td>\n",
       "      <td>226.0</td>\n",
       "      <td>190.0</td>\n",
       "      <td>9.0</td>\n",
       "      <td>246.0</td>\n",
       "      <td>93.0</td>\n",
       "      <td>135.0</td>\n",
       "      <td>1.0</td>\n",
       "      <td>82.0</td>\n",
       "      <td>...</td>\n",
       "      <td>1.0</td>\n",
       "      <td>1.0</td>\n",
       "      <td>2.0</td>\n",
       "      <td>1.0</td>\n",
       "      <td>1.0</td>\n",
       "      <td>284903.0</td>\n",
       "      <td>146.0</td>\n",
       "      <td>98.0</td>\n",
       "      <td>95.0</td>\n",
       "      <td>93.0</td>\n",
       "    </tr>\n",
       "  </tbody>\n",
       "</table>\n",
       "<p>3 rows × 12492 columns</p>\n",
       "</div>"
      ],
      "text/plain": [
       "         Donald   Trump  republican  candidate  volunteers  national  \\\n",
       "Trump     385.0  2479.0       176.0      132.0         5.0     159.0   \n",
       "Clinton   308.0   447.0        50.0       58.0         4.0      87.0   \n",
       "Total     693.0  2926.0       226.0      190.0         9.0     246.0   \n",
       "\n",
       "         convention   date  2016-07-22  pence  ...  crisscrossed  \\\n",
       "Trump          38.0   99.0         1.0   81.0  ...           0.0   \n",
       "Clinton        55.0   36.0         0.0    1.0  ...           1.0   \n",
       "Total          93.0  135.0         1.0   82.0  ...           1.0   \n",
       "\n",
       "         four-month-old  setbacks  deserving  seasons     Total  \\\n",
       "Trump               0.0       0.0        0.0      0.0  223084.0   \n",
       "Clinton             1.0       2.0        1.0      1.0   61819.0   \n",
       "Total               1.0       2.0        1.0      1.0  284903.0   \n",
       "\n",
       "         (make, America, great)  (going, take, care)  \\\n",
       "Trump                     140.0                 98.0   \n",
       "Clinton                     6.0                  0.0   \n",
       "Total                     146.0                 98.0   \n",
       "\n",
       "         (Hillary, Clinton, wants)  (bring, back, jobs)  \n",
       "Trump                         95.0                 93.0  \n",
       "Clinton                        0.0                  0.0  \n",
       "Total                         95.0                 93.0  \n",
       "\n",
       "[3 rows x 12492 columns]"
      ]
     },
     "execution_count": 8,
     "metadata": {},
     "output_type": "execute_result"
    }
   ],
   "source": [
    "dtm"
   ]
  },
  {
   "cell_type": "markdown",
   "metadata": {},
   "source": [
    "(i) Finally, we can also transform documents into numbers using strategies other than simple word counts. Create a DTM for your corpus using TF-IDF scores rather than word counts.\n",
    "\n",
    "I'm implementing TF-IDF from this site: https://towardsdatascience.com/natural-language-processing-feature-engineering-using-tf-idf-e8b9d00e7e76"
   ]
  },
  {
   "cell_type": "code",
   "execution_count": 9,
   "metadata": {},
   "outputs": [
    {
     "data": {
      "text/html": [
       "<div>\n",
       "<style scoped>\n",
       "    .dataframe tbody tr th:only-of-type {\n",
       "        vertical-align: middle;\n",
       "    }\n",
       "\n",
       "    .dataframe tbody tr th {\n",
       "        vertical-align: top;\n",
       "    }\n",
       "\n",
       "    .dataframe thead th {\n",
       "        text-align: right;\n",
       "    }\n",
       "</style>\n",
       "<table border=\"1\" class=\"dataframe\">\n",
       "  <thead>\n",
       "    <tr style=\"text-align: right;\">\n",
       "      <th></th>\n",
       "      <th>Trump</th>\n",
       "      <th>Clinton</th>\n",
       "    </tr>\n",
       "  </thead>\n",
       "  <tbody>\n",
       "    <tr>\n",
       "      <th>obamacare</th>\n",
       "      <td>0.000873</td>\n",
       "      <td>0.000000</td>\n",
       "    </tr>\n",
       "    <tr>\n",
       "      <th>borders</th>\n",
       "      <td>0.000758</td>\n",
       "      <td>0.000000</td>\n",
       "    </tr>\n",
       "    <tr>\n",
       "      <th>nafta</th>\n",
       "      <td>0.000690</td>\n",
       "      <td>0.000000</td>\n",
       "    </tr>\n",
       "    <tr>\n",
       "      <th>hannity</th>\n",
       "      <td>0.000628</td>\n",
       "      <td>0.000000</td>\n",
       "    </tr>\n",
       "    <tr>\n",
       "      <th>dishonest</th>\n",
       "      <td>0.000513</td>\n",
       "      <td>0.000000</td>\n",
       "    </tr>\n",
       "    <tr>\n",
       "      <th>appear</th>\n",
       "      <td>0.000000</td>\n",
       "      <td>0.000000</td>\n",
       "    </tr>\n",
       "    <tr>\n",
       "      <th>page</th>\n",
       "      <td>0.000000</td>\n",
       "      <td>0.000000</td>\n",
       "    </tr>\n",
       "    <tr>\n",
       "      <th>matt</th>\n",
       "      <td>0.000000</td>\n",
       "      <td>0.000000</td>\n",
       "    </tr>\n",
       "    <tr>\n",
       "      <th>dye</th>\n",
       "      <td>0.000000</td>\n",
       "      <td>0.000034</td>\n",
       "    </tr>\n",
       "    <tr>\n",
       "      <th>embarrassing</th>\n",
       "      <td>0.000000</td>\n",
       "      <td>0.000022</td>\n",
       "    </tr>\n",
       "  </tbody>\n",
       "</table>\n",
       "</div>"
      ],
      "text/plain": [
       "                 Trump   Clinton\n",
       "obamacare     0.000873  0.000000\n",
       "borders       0.000758  0.000000\n",
       "nafta         0.000690  0.000000\n",
       "hannity       0.000628  0.000000\n",
       "dishonest     0.000513  0.000000\n",
       "appear        0.000000  0.000000\n",
       "page          0.000000  0.000000\n",
       "matt          0.000000  0.000000\n",
       "dye           0.000000  0.000034\n",
       "embarrassing  0.000000  0.000022"
      ]
     },
     "execution_count": 9,
     "metadata": {},
     "output_type": "execute_result"
    }
   ],
   "source": [
    "uniqueWords = set(trump_tokens).union(set(clinton_tokens))\n",
    "numOfWords_trump = dict.fromkeys(uniqueWords, 0)\n",
    "for word in trump_tokens:\n",
    "    numOfWords_trump[word] += 1\n",
    "numOfWords_clinton= dict.fromkeys(uniqueWords, 0)\n",
    "for word in clinton_tokens:\n",
    "    numOfWords_clinton[word] += 1\n",
    "\n",
    "def computeTF(wordDict, bagOfWords):\n",
    "    tfDict = {}\n",
    "    bagOfWordsCount = len(bagOfWords)\n",
    "    for word, count in wordDict.items():\n",
    "        tfDict[word] = count / float(bagOfWordsCount)\n",
    "    return tfDict\n",
    "tf_trump = computeTF(numOfWords_trump, trump_tokens)\n",
    "tf_clinton = computeTF(numOfWords_clinton, clinton_tokens)\n",
    "def computeIDF(documents):\n",
    "    import math\n",
    "    N = len(documents)\n",
    "    idfDict = dict.fromkeys(documents[0].keys(), 0)\n",
    "    for document in documents:\n",
    "        for word, val in document.items():\n",
    "            if val > 0:\n",
    "                idfDict[word] += 1\n",
    "    \n",
    "    for word, val in idfDict.items():\n",
    "        idfDict[word] = math.log(N / float(val))\n",
    "    return idfDict\n",
    "idfs = computeIDF([numOfWords_trump, numOfWords_clinton])\n",
    "def computeTFIDF(tfBagOfWords, idfs):\n",
    "    tfidf = {}\n",
    "    for word, val in tfBagOfWords.items():\n",
    "        tfidf[word] = val * idfs[word]\n",
    "    return tfidf\n",
    "tfidf_trump = computeTFIDF(tf_trump, idfs)\n",
    "tfidf_clinton = computeTFIDF(tf_clinton, idfs)\n",
    "tfidf = pd.DataFrame([tfidf_trump, tfidf_clinton]).rename(index={0: 'Trump', 1:'Clinton'})\n",
    "tfidf_trump_sort = tfidf.T.sort_values(by='Trump', ascending=False)\n",
    "tfidf_clinton_sort = tfidf.T.sort_values(by='Clinton', ascending=False)\n",
    "tfidf_trump_sort.head().append(tfidf_trump_sort.tail())"
   ]
  },
  {
   "cell_type": "code",
   "execution_count": 10,
   "metadata": {},
   "outputs": [
    {
     "data": {
      "text/html": [
       "<div>\n",
       "<style scoped>\n",
       "    .dataframe tbody tr th:only-of-type {\n",
       "        vertical-align: middle;\n",
       "    }\n",
       "\n",
       "    .dataframe tbody tr th {\n",
       "        vertical-align: top;\n",
       "    }\n",
       "\n",
       "    .dataframe thead th {\n",
       "        text-align: right;\n",
       "    }\n",
       "</style>\n",
       "<table border=\"1\" class=\"dataframe\">\n",
       "  <thead>\n",
       "    <tr style=\"text-align: right;\">\n",
       "      <th></th>\n",
       "      <th>Trump</th>\n",
       "      <th>Clinton</th>\n",
       "    </tr>\n",
       "  </thead>\n",
       "  <tbody>\n",
       "    <tr>\n",
       "      <th>cheers</th>\n",
       "      <td>0.000000</td>\n",
       "      <td>0.000863</td>\n",
       "    </tr>\n",
       "    <tr>\n",
       "      <th>fairer</th>\n",
       "      <td>0.000000</td>\n",
       "      <td>0.000370</td>\n",
       "    </tr>\n",
       "    <tr>\n",
       "      <th>insults</th>\n",
       "      <td>0.000000</td>\n",
       "      <td>0.000303</td>\n",
       "    </tr>\n",
       "    <tr>\n",
       "      <th>maggie</th>\n",
       "      <td>0.000000</td>\n",
       "      <td>0.000292</td>\n",
       "    </tr>\n",
       "    <tr>\n",
       "      <th>hillaryclinton.com</th>\n",
       "      <td>0.000000</td>\n",
       "      <td>0.000269</td>\n",
       "    </tr>\n",
       "    <tr>\n",
       "      <th>interest</th>\n",
       "      <td>0.000000</td>\n",
       "      <td>0.000000</td>\n",
       "    </tr>\n",
       "    <tr>\n",
       "      <th>beloved</th>\n",
       "      <td>0.000000</td>\n",
       "      <td>0.000000</td>\n",
       "    </tr>\n",
       "    <tr>\n",
       "      <th>amendment.</th>\n",
       "      <td>0.000003</td>\n",
       "      <td>0.000000</td>\n",
       "    </tr>\n",
       "    <tr>\n",
       "      <th>impressions</th>\n",
       "      <td>0.000006</td>\n",
       "      <td>0.000000</td>\n",
       "    </tr>\n",
       "    <tr>\n",
       "      <th>scientific</th>\n",
       "      <td>0.000000</td>\n",
       "      <td>0.000000</td>\n",
       "    </tr>\n",
       "  </tbody>\n",
       "</table>\n",
       "</div>"
      ],
      "text/plain": [
       "                       Trump   Clinton\n",
       "cheers              0.000000  0.000863\n",
       "fairer              0.000000  0.000370\n",
       "insults             0.000000  0.000303\n",
       "maggie              0.000000  0.000292\n",
       "hillaryclinton.com  0.000000  0.000269\n",
       "interest            0.000000  0.000000\n",
       "beloved             0.000000  0.000000\n",
       "amendment.          0.000003  0.000000\n",
       "impressions         0.000006  0.000000\n",
       "scientific          0.000000  0.000000"
      ]
     },
     "execution_count": 10,
     "metadata": {},
     "output_type": "execute_result"
    }
   ],
   "source": [
    "tfidf_clinton_sort.head().append(tfidf_clinton_sort.tail())"
   ]
  },
  {
   "cell_type": "markdown",
   "metadata": {},
   "source": [
    "(j) To make sure we're all clear on what's going on with TF-IDF, what do words in your corpus with high TF-IDF scores represent (i.e., what do we learn about these words given this high score)? What about the words with low TF-IDF scores?"
   ]
  },
  {
   "cell_type": "markdown",
   "metadata": {},
   "source": [
    "A high tf-idf score means that word is particularily important to that document. Low scores means that word isn't particularily important. "
   ]
  },
  {
   "cell_type": "markdown",
   "metadata": {},
   "source": [
    "(k) It may be hard to say until you've done later analyses, but how useful do you think the word count DTM vs. the TF-IDF DTM will be for your analysis? Is one more \"representative\" of your text than the other? On what are you basing this conclusion?"
   ]
  },
  {
   "cell_type": "markdown",
   "metadata": {},
   "source": [
    "I am not sure that the tfidf for Clinton worked that well since cheers is the most \"significant\" word, whereas for trump I think it worked perfectly. Trump attacked obamacare, borders, nafta, and called anyone dishonest while supporting hannity."
   ]
  },
  {
   "cell_type": "markdown",
   "metadata": {},
   "source": [
    "## 3. Characterising documents"
   ]
  },
  {
   "cell_type": "markdown",
   "metadata": {},
   "source": [
    "(a) It's time to start doing some descriptive analyses of our corpus. First, let's evaluate whether our corpus is the first text in the history of the world to violate Zipf's law. Generate a term frequency plot below. (If you removed stop words previously, you may need to put them temporarily back in.)"
   ]
  },
  {
   "cell_type": "code",
   "execution_count": 11,
   "metadata": {},
   "outputs": [],
   "source": [
    "import matplotlib.pyplot as plt\n",
    "t_count_stopwords = Counter()\n",
    "c_count_stopwords = Counter()\n",
    "c_count_stopwords.update(word for word in clinton_tokens_stopwords)\n",
    "t_count_stopwords.update(word for word in trump_tokens_stopwords)\n",
    "clinton_count_stopwords = dict(c_count_stopwords)\n",
    "trump_count_stopwords = dict(t_count_stopwords)\n",
    "dtm1_stopwords = pd.DataFrame(trump_count_stopwords, index=[0]) \n",
    "dtm2_stopwords = pd.DataFrame(clinton_count_stopwords, index=[1]) \n",
    "dtm_stopwords = dtm1_stopwords.merge(dtm2_stopwords, how='outer')\n",
    "dtm_stopwords.loc['Total'] = dtm_stopwords.sum()"
   ]
  },
  {
   "cell_type": "code",
   "execution_count": 12,
   "metadata": {},
   "outputs": [
    {
     "data": {
      "image/png": "[encoded data removed]",
      "text/plain": [
       "<Figure size 432x288 with 1 Axes>"
      ]
     },
     "metadata": {
      "needs_background": "light"
     },
     "output_type": "display_data"
    },
    {
     "data": {
      "text/plain": [
       "the     21447.0\n",
       "and     20521.0\n",
       "to      19351.0\n",
       "we      13683.0\n",
       "i       13411.0\n",
       "you     11670.0\n",
       "of      11469.0\n",
       "a       11297.0\n",
       "it       9831.0\n",
       "that     9663.0\n",
       "Name: Total, dtype: float64"
      ]
     },
     "execution_count": 12,
     "metadata": {},
     "output_type": "execute_result"
    }
   ],
   "source": [
    "dtm_stopwords.T.sort_values(by='Total', ascending=False).reset_index()['Total'].plot.line()\n",
    "plt.title('Frequency of words in corpus with Stop Words (Log Scale)')\n",
    "plt.xlabel('Rank')\n",
    "plt.ylabel('Frequency')\n",
    "plt.yscale(\"log\")\n",
    "plt.show()\n",
    "dtm_stopwords.T.sort_values(by='Total', ascending=False)['Total'].head(10)"
   ]
  },
  {
   "cell_type": "markdown",
   "metadata": {},
   "source": [
    "(b) How did your corpus do? Have we stumbled upon a new discovery?"
   ]
  },
  {
   "cell_type": "markdown",
   "metadata": {},
   "source": [
    "Same old story as always."
   ]
  },
  {
   "cell_type": "markdown",
   "metadata": {},
   "source": [
    "(c) BTW: Which explanation for Zipf's law in the context of language do you find most compelling, and why?"
   ]
  },
  {
   "cell_type": "markdown",
   "metadata": {},
   "source": [
    "I think these words have become so ubiquitous to conveying information that there aren't really alternatives to these words. Like, how would you replace the, or, you, I.\n",
    "\n",
    "Maybe there are some words in old english used as alternative for these words, but they're not common nowadays and if we'd like to convey words to the average person, we'll use average words."
   ]
  },
  {
   "cell_type": "markdown",
   "metadata": {},
   "source": [
    "(d) We're now going to choose some key words for your corpus. These are words that \"characterise\" or are especially informative of your corpus. You can use either frequently appearing words, words with high TF-IDF scores, or something else, such as using some other rule (e.g., \"proper nouns\") or simply choosing the words you're most interested in. List five key words below and why you've chosen them. If you don't have as many as five, explain why not."
   ]
  },
  {
   "cell_type": "markdown",
   "metadata": {},
   "source": [
    "I'm going to choose emails, obamacare, wall, and border\n",
    "\n",
    "Hillary doesn't have any particularily good words in her tokens, trump has many,\n",
    "\n",
    "I have also just found out how small the hillary corpus is compared to trump's but it's from a website that already had them all in there. Perhaps trump did more speeches than hillary?"
   ]
  },
  {
   "cell_type": "markdown",
   "metadata": {},
   "source": [
    "(e) We're going to inspect concordance plots, or \"key word in context\" (KWIC) plots now. Before we do, generate one hypothesis you can test with a KWIC plot. For example, you could test whether two key words typically have different contexts around them, or whether one key word's contex has changed over time."
   ]
  },
  {
   "cell_type": "markdown",
   "metadata": {},
   "source": [
    "In trump's case, I expect jobs and mexico to share very similar contexts. As well as going.\n",
    "\n",
    "In hillary's case, I expect insults to be in very similar contexts to other groups of people or donald trump"
   ]
  },
  {
   "cell_type": "markdown",
   "metadata": {},
   "source": [
    "(f) Testing time! Generate the relevant plots!"
   ]
  },
  {
   "cell_type": "code",
   "execution_count": 13,
   "metadata": {},
   "outputs": [
    {
     "name": "stdout",
     "output_type": "stream",
     "text": [
      "Displaying 25 of 377 matches:\n",
      "wheat right trade imbalance massive mexico unbelievably big trade imbalance ki\n",
      "traffic tough build wall easily way mexico going pay wall going pay wall got g\n",
      "ke country 'm going bring jobs back mexico booming booming friend builds plant\n",
      "good news country well country well mexico unbelievable plants 'm building mex\n",
      "ico unbelievable plants 'm building mexico never seen anything eighth wonder w\n",
      " job number one get jobs jobs going mexico going china going japan going place\n",
      "ee ford see companies leaving going mexico like nothing make product sell back\n",
      "ooked going jobs torn country going mexico china happening china isis military\n",
      " listen going fire everybody moving mexico another case booing know much effec\n",
      "undreds companies moving case going mexico many go mexico case going mexico an\n",
      "es moving case going mexico many go mexico case going mexico announce closing \n",
      "ng mexico many go mexico case going mexico announce closing going fire everybo\n",
      "ing going fire everybody going move mexico going make air conditioners going s\n",
      "reat leadership 'm angry leadership mexico japan vietnam new strong vietnam ch\n",
      "lant say listen really happy moving mexico think wonderful hot wonderful story\n",
      "rful hot wonderful story going move mexico every single time make air conditio\n",
      "ng understand leaving going Indiana mexico right yes well hope change mind wel\n",
      " go right ca really end ok end move mexico 'll sell goods 1400 people unemploy\n",
      " give quiz want quiz going pay wall mexico d. Trump mexico d. Trump 100 percen\n",
      "quiz going pay wall mexico d. Trump mexico d. Trump 100 percent 100 percent kn\n",
      "tly hold clowns back pundits saying mexico never going pay wall mexico know mu\n",
      " saying mexico never going pay wall mexico know much money make us year 'm inc\n",
      " bring back jobs gon na let jobs go mexico countries gon na renegotiate horrib\n",
      "gon na build wall gon na build wall mexico gon na pay wall reason politicians \n",
      "erstand going pay making much money mexico taking business friend mine builds \n",
      "\n",
      "\n",
      "Displaying 25 of 27 matches:\n",
      "ge mocks mimics reporter disability insults prisoners war like john mccain hero\n",
      "federal judge mexican heritage fair insults gold star family muslim american se\n",
      "l attacks name-calling revels think insults bullying get things done think appr\n",
      "rds teleprompter laughter still man insults gold star families demeans women mo\n",
      "mp ask 'm proud run campaign issues insults 'm going continue next 83 days thin\n",
      "xt certainly takes trying make year insults insinuations dropping neighbors hou\n",
      "paign running campaign based issues insults believe anyone asks vote tell going\n",
      "nerals claims armed forces disaster insults gold star family wrong offensive da\n",
      " together going run campaign issues insults going absolutely strong support uni\n",
      "nerals claims armed forces disaster insults gold star family offensive dangerou\n",
      "d tim kaine running campaign issues insults believe anybody asking vote importa\n",
      "g tim kaine running campaign issues insults Donald Trump different approach wan\n",
      " respecting avoid kind name-calling insults see much 'm excited campaign 'm eve\n",
      "sanders ran campaign campaign ideas insults campaigns bernie got together put h\n",
      "end someone like becoming president insults half population united states Ameri\n",
      "ing immigrants moves insult latinos insults african americans insults muslims i\n",
      "t latinos insults african americans insults muslims insults people disabilities\n",
      "s african americans insults muslims insults people disabilities insults pows in\n",
      "muslims insults people disabilities insults pows insults women inaudible time a\n",
      "ts people disabilities insults pows insults women inaudible time add people ins\n",
      "ans women mocks people disabilities insults african americans latinos demonizes\n",
      "ine run campaign based ideas issues insults cheers really take look stake elect\n",
      "sident demeans women mocks disabled insults african-americans latinos muslims b\n",
      "ca great race marked ugly suspicion insults attacks kinds immigrants muslims ma\n",
      "laughter great primary ideas issues insults 'm proud race senator sanders ran g\n",
      "\n",
      "\n"
     ]
    }
   ],
   "source": [
    "from nltk.text import Text  \n",
    "trump_text = nltk.Text(trump_tokens)\n",
    "clinton_text = nltk.Text(clinton_tokens)\n",
    "\n",
    "def getConcordance(string, candidate):\n",
    "    if candidate.lower() == 'trump':\n",
    "        trump_text.concordance(string.lower())\n",
    "        print('\\n')\n",
    "    if candidate.lower() == 'clinton':\n",
    "        clinton_text.concordance(string.lower())\n",
    "        print('\\n')\n",
    "getConcordance('mexico', 'TrUmP')\n",
    "getConcordance('insults', 'clinton')"
   ]
  },
  {
   "cell_type": "markdown",
   "metadata": {},
   "source": [
    "(g) How did your hypothesis do? As ever, no need to worry about statistical significance right now -- and this inspection in particular is pretty analog. But please comment on whether the differences you hypothesized were borne out, and how you reached that conclusion."
   ]
  },
  {
   "cell_type": "markdown",
   "metadata": {},
   "source": [
    "I got them both right, Mexico is along the same contexts as going or moving jobs to.\n",
    "\n",
    "Insults is along the same contexts and people like the gold star faimily, african americans, muslims, disabled, etc."
   ]
  },
  {
   "cell_type": "markdown",
   "metadata": {},
   "source": [
    "(h) We're going to do the same exercise for lexical dispersion plots. Again, they're pretty low-tech as NLP goes, but depending on your corpus could yield interesting insights. Generate one hypothesis about your corpus that you can test with a lexical dispersion plot(s)."
   ]
  },
  {
   "cell_type": "markdown",
   "metadata": {},
   "source": [
    "I expect trump to ramp up his use of wikileaks and emails and variations by the end of the campaign, as well as mention FBI more often\n",
    "\n",
    "I expect Hillary to use gold and star to line up almost perfectly, along with insult"
   ]
  },
  {
   "cell_type": "markdown",
   "metadata": {},
   "source": [
    "(i) Ok, generate your plots!"
   ]
  },
  {
   "cell_type": "code",
   "execution_count": 14,
   "metadata": {},
   "outputs": [
    {
     "data": {
      "image/png": "[encoded data removed]",
      "text/plain": [
       "<Figure size 864x648 with 1 Axes>"
      ]
     },
     "metadata": {
      "needs_background": "light"
     },
     "output_type": "display_data"
    },
    {
     "data": {
      "image/png": "[encoded data removed]",
      "text/plain": [
       "<Figure size 864x648 with 1 Axes>"
      ]
     },
     "metadata": {
      "needs_background": "light"
     },
     "output_type": "display_data"
    }
   ],
   "source": [
    "from nltk.draw.dispersion import dispersion_plot\n",
    "plt.figure(figsize=(12, 9))\n",
    "trump_words = ['benghazi', 'wikileaks', 'email', 'emails', 'fbi']\n",
    "dispersion_plot(trump_text, trump_words, ignore_case=True, title='Lexical Dispersion Plot')\n",
    "plt.figure(figsize=(12, 9))\n",
    "clinton_words = ['gold','star']\n",
    "dispersion_plot(clinton_text, clinton_words, ignore_case=True, title='Lexical Dispersion Plot')"
   ]
  },
  {
   "cell_type": "markdown",
   "metadata": {},
   "source": [
    "(j) How did your hypothesis do? Briefly explain your assessment."
   ]
  },
  {
   "cell_type": "markdown",
   "metadata": {},
   "source": [
    "I think they were both correct!"
   ]
  },
  {
   "cell_type": "markdown",
   "metadata": {},
   "source": [
    "## 4. Comparing documents: similarity"
   ]
  },
  {
   "cell_type": "markdown",
   "metadata": {},
   "source": [
    "(a) Now we're going to compare documents in your corpus. First, we'll examine similarity. Generate one hypothesis you can test regarding the likely similarity of documents in your corpus (between different types, over time, by different authors, etc.). You may test all documents or some subset -- whatever makes sense for your hypothesis and corpus."
   ]
  },
  {
   "cell_type": "markdown",
   "metadata": {},
   "source": [
    "I expect most of the corpus words to be shared with the other"
   ]
  },
  {
   "cell_type": "markdown",
   "metadata": {},
   "source": [
    "(b) Evaluate the cosine similarity between the documents specified in your hypothesis above.\n",
    "\n",
    "https://www.geeksforgeeks.org/python-measure-similarity-between-two-sentences-using-cosine-similarity/"
   ]
  },
  {
   "cell_type": "code",
   "execution_count": 15,
   "metadata": {},
   "outputs": [
    {
     "name": "stdout",
     "output_type": "stream",
     "text": [
      "similarity:  0.9996544073064795\n",
      "Angle:  1.5063726241857764\n"
     ]
    }
   ],
   "source": [
    "import math\n",
    "from math import *\n",
    "from sklearn.metrics.pairwise import cosine_similarity\n",
    "cos = cosine_similarity(dtm.iloc[:2], dtm.iloc[:2])\n",
    "print(\"similarity: \", cos[0][1]) \n",
    "print('Angle: ', math.degrees(math.acos(cos[0][1])))"
   ]
  },
  {
   "cell_type": "markdown",
   "metadata": {},
   "source": [
    "(c) How did your hypothesis hold up? Briefly explain your assessment."
   ]
  },
  {
   "cell_type": "markdown",
   "metadata": {},
   "source": [
    "Yea this is what I expected, most words are shared between the two candidates"
   ]
  },
  {
   "cell_type": "markdown",
   "metadata": {},
   "source": [
    "(d) Now we're going to test your hypothesis using a different distance metric (you can use any you like). Briefly describe which you chose and why (\"I learned Euclidean distance in another class\" is a fine answer here!)."
   ]
  },
  {
   "cell_type": "markdown",
   "metadata": {},
   "source": [
    "I learned something about eucledian distance in my linear algebra class but don't remember it much to be honest :/\n",
    "\n",
    "And I don't really know how to interpret this result to be honest"
   ]
  },
  {
   "cell_type": "markdown",
   "metadata": {},
   "source": [
    "(e) Test your hypothesis using the additional distance metric you selected above."
   ]
  },
  {
   "cell_type": "code",
   "execution_count": 16,
   "metadata": {},
   "outputs": [
    {
     "data": {
      "text/plain": [
       "161522.4381997746"
      ]
     },
     "execution_count": 16,
     "metadata": {},
     "output_type": "execute_result"
    }
   ],
   "source": [
    "from sklearn.metrics.pairwise import euclidean_distances\n",
    "euclidean_distances(dtm.iloc[:2], dtm.iloc[:2])[0][1]"
   ]
  },
  {
   "cell_type": "markdown",
   "metadata": {},
   "source": [
    "(f) How did your hypothesis hold up with this alternative distance metric? Briefly explain your assessment."
   ]
  },
  {
   "cell_type": "markdown",
   "metadata": {},
   "source": [
    "I am not sure if this number is correct due to the fact that the Trump corpus is almost 4 times as big as the hillary one. "
   ]
  },
  {
   "cell_type": "markdown",
   "metadata": {},
   "source": [
    "(g) Which distance metric do you think is more appropriate for your corpus, and why?"
   ]
  },
  {
   "cell_type": "markdown",
   "metadata": {},
   "source": [
    "I don't know why but I feel that the cosine similarity is easier to interpret and use."
   ]
  },
  {
   "cell_type": "markdown",
   "metadata": {},
   "source": [
    "(h) Did anything in this similarity analysis surprise you? Why or why not?"
   ]
  },
  {
   "cell_type": "markdown",
   "metadata": {},
   "source": [
    "Just how similar the words were in each corpus, I expected more differences but that wasn't the case, even given the vastly different corpus sizes"
   ]
  },
  {
   "cell_type": "markdown",
   "metadata": {},
   "source": [
    "## 5. Comparing documents: diversity & complexity"
   ]
  },
  {
   "cell_type": "markdown",
   "metadata": {},
   "source": [
    "(a) We're going to explore the linguistic diversity and complexity of your corpus. First, a few conceptual questions: what is meant by *lexical diversity*, and why is it so hard to measure?"
   ]
  },
  {
   "cell_type": "markdown",
   "metadata": {},
   "source": [
    "Lexical diversity is the variety of unique words in each corpus compared to the other"
   ]
  },
  {
   "cell_type": "markdown",
   "metadata": {},
   "source": [
    "(b) What are some reasons why we might want to measure the diversity of a document or corpus? (There are no wrong answers except variants on \"none\"!)"
   ]
  },
  {
   "cell_type": "markdown",
   "metadata": {},
   "source": [
    "There are many ways of expressing diversity, not only counting unique words per document (different POS, use of political lingo, etc)"
   ]
  },
  {
   "cell_type": "markdown",
   "metadata": {},
   "source": [
    "(c) What is meant by *linguistic complexity*, and why is it so hard to measure?"
   ]
  },
  {
   "cell_type": "markdown",
   "metadata": {},
   "source": [
    "Linguistic complexity is a measure of how readable or rich a text is in its tokens. It is hard to measure because, like diversity there are many ways of measuring it. We also did an example in class where for people whose native language is japanese, mandarin might be easier to learn that for native english speakers."
   ]
  },
  {
   "cell_type": "markdown",
   "metadata": {},
   "source": [
    "(d) What are some reasons why we might want to measure the complexity of a document or corpus? (There are no wrong answers except variants on \"none\"!)"
   ]
  },
  {
   "cell_type": "markdown",
   "metadata": {},
   "source": [
    "We might want to measure how different two documents speak on a similar subject, or whether one just elongates sentences to seem \"smarter\" than it really is. There are many reasons to do this."
   ]
  },
  {
   "cell_type": "markdown",
   "metadata": {},
   "source": [
    "(e) Generate a hypothesis about the lexical diversity in your corpus -- again, by some subset of documents, or over time, or anything you like. We aren't being too particular about the theoretical motivations behind your hypothesis -- just something you think is even vaguely (hopefully) interesting is fine."
   ]
  },
  {
   "cell_type": "markdown",
   "metadata": {},
   "source": [
    "For the mere fact that Trump's document is larger than Clinton's, I expect trump's to have more diversity, but Trump is also known to use very simple, child-like sentences in his speeches instead of large words.\n",
    "\n",
    "https://shravan-kuchkula.github.io/Lexical-Diversity/#lexical-diversity"
   ]
  },
  {
   "cell_type": "markdown",
   "metadata": {},
   "source": [
    "(f) Test your hypothesis using one measure of lexical diversity."
   ]
  },
  {
   "cell_type": "code",
   "execution_count": 17,
   "metadata": {},
   "outputs": [],
   "source": [
    "def lexical_diversity(text):\n",
    "    return len(set(text)) / len(text)\n",
    "\n",
    "def percentage(count, total):\n",
    "    return 100 * count / total\n",
    "texts = [clinton_tokens, trump_tokens]\n",
    "\n",
    "lexicalDiversity = [lexical_diversity(text) for text in texts]\n",
    "tokens = [len(text) for text in texts]\n",
    "types = [len(set(text)) for text in texts]\n",
    "\n",
    "ld_ttr = pd.DataFrame({'tokens': tokens, 'types': types,\n",
    "                   'lexical_diversity': lexicalDiversity})\n",
    "ld_ttr = ld_ttr.sort_values(by='lexical_diversity', ascending=False).rename(index={0: 'Clinton', 1:'Trump'})"
   ]
  },
  {
   "cell_type": "code",
   "execution_count": 18,
   "metadata": {},
   "outputs": [
    {
     "data": {
      "text/html": [
       "<div>\n",
       "<style scoped>\n",
       "    .dataframe tbody tr th:only-of-type {\n",
       "        vertical-align: middle;\n",
       "    }\n",
       "\n",
       "    .dataframe tbody tr th {\n",
       "        vertical-align: top;\n",
       "    }\n",
       "\n",
       "    .dataframe thead th {\n",
       "        text-align: right;\n",
       "    }\n",
       "</style>\n",
       "<table border=\"1\" class=\"dataframe\">\n",
       "  <thead>\n",
       "    <tr style=\"text-align: right;\">\n",
       "      <th></th>\n",
       "      <th>tokens</th>\n",
       "      <th>types</th>\n",
       "      <th>lexical_diversity</th>\n",
       "    </tr>\n",
       "  </thead>\n",
       "  <tbody>\n",
       "    <tr>\n",
       "      <th>Clinton</th>\n",
       "      <td>61819</td>\n",
       "      <td>6743</td>\n",
       "      <td>0.109076</td>\n",
       "    </tr>\n",
       "    <tr>\n",
       "      <th>Trump</th>\n",
       "      <td>223084</td>\n",
       "      <td>10087</td>\n",
       "      <td>0.045216</td>\n",
       "    </tr>\n",
       "  </tbody>\n",
       "</table>\n",
       "</div>"
      ],
      "text/plain": [
       "         tokens  types  lexical_diversity\n",
       "Clinton   61819   6743           0.109076\n",
       "Trump    223084  10087           0.045216"
      ]
     },
     "execution_count": 18,
     "metadata": {},
     "output_type": "execute_result"
    }
   ],
   "source": [
    "ld_ttr"
   ]
  },
  {
   "cell_type": "markdown",
   "metadata": {},
   "source": [
    "(g) Test your hypothesis using another measure of lexical diversity."
   ]
  },
  {
   "cell_type": "code",
   "execution_count": 19,
   "metadata": {},
   "outputs": [
    {
     "data": {
      "text/html": [
       "<div>\n",
       "<style scoped>\n",
       "    .dataframe tbody tr th:only-of-type {\n",
       "        vertical-align: middle;\n",
       "    }\n",
       "\n",
       "    .dataframe tbody tr th {\n",
       "        vertical-align: top;\n",
       "    }\n",
       "\n",
       "    .dataframe thead th {\n",
       "        text-align: right;\n",
       "    }\n",
       "</style>\n",
       "<table border=\"1\" class=\"dataframe\">\n",
       "  <thead>\n",
       "    <tr style=\"text-align: right;\">\n",
       "      <th></th>\n",
       "      <th>tokens</th>\n",
       "      <th>types</th>\n",
       "      <th>lexical_diversity</th>\n",
       "    </tr>\n",
       "  </thead>\n",
       "  <tbody>\n",
       "    <tr>\n",
       "      <th>Clinton</th>\n",
       "      <td>248.63427</td>\n",
       "      <td>6743</td>\n",
       "      <td>27.120155</td>\n",
       "    </tr>\n",
       "    <tr>\n",
       "      <th>Trump</th>\n",
       "      <td>472.31769</td>\n",
       "      <td>10087</td>\n",
       "      <td>21.356388</td>\n",
       "    </tr>\n",
       "  </tbody>\n",
       "</table>\n",
       "</div>"
      ],
      "text/plain": [
       "            tokens  types  lexical_diversity\n",
       "Clinton  248.63427   6743          27.120155\n",
       "Trump    472.31769  10087          21.356388"
      ]
     },
     "execution_count": 19,
     "metadata": {},
     "output_type": "execute_result"
    }
   ],
   "source": [
    "def lexical_diversity(text):\n",
    "    return len(set(text)) / sqrt(len(text))\n",
    "\n",
    "def percentage(count, total):\n",
    "    return 100 * count / sqrt(total)\n",
    "texts = [clinton_tokens, trump_tokens]\n",
    "lexicalDiversity = [lexical_diversity(text) for text in texts]\n",
    "tokens = [sqrt(len(text)) for text in texts]\n",
    "types = [len(set(text)) for text in texts]\n",
    "ld_r = pd.DataFrame({'tokens': tokens, 'types': types,\n",
    "                   'lexical_diversity': lexicalDiversity})\n",
    "ld_r = ld_r.sort_values(by='lexical_diversity', ascending=False).rename(index={0: 'Clinton', 1:'Trump'})\n",
    "ld_r"
   ]
  },
  {
   "cell_type": "markdown",
   "metadata": {},
   "source": [
    "(h) How did your hypothesis hold up in these two models? Which model of lexical diversity do you think is a better fit for your work, and why? "
   ]
  },
  {
   "cell_type": "markdown",
   "metadata": {},
   "source": [
    "Both are correct! Clinton used more diverse words in her speehces even though they were 1/4 length of Trump's"
   ]
  },
  {
   "cell_type": "markdown",
   "metadata": {},
   "source": [
    "(i) We'll do a similar, but shorter analysis for complexity. What's a hypothesis you can test? (Your answers can be brief, as a reminder!)"
   ]
  },
  {
   "cell_type": "markdown",
   "metadata": {},
   "source": [
    "Trump's speeches are less complex that Hillary's by a substantial margin\n",
    "\n",
    "To use Spacy I had to cut trump's speeches into thirds and get stats on each third individually, then averaged these all out."
   ]
  },
  {
   "cell_type": "markdown",
   "metadata": {},
   "source": [
    "(j) Test your hypothesis from above using one measure of complexity. (You won't have to use a second one this time.)"
   ]
  },
  {
   "cell_type": "code",
   "execution_count": 35,
   "metadata": {},
   "outputs": [],
   "source": [
    "nlp = spacy.load('en_core_web_sm')\n",
    "clinton_spacydoc = nlp(clinton)\n",
    "trump_spacydoc1 = nlp(trump[:999999])\n",
    "trump_spacydoc2 = nlp(trump[1000000:1999999])\n",
    "trump_spacydoc3 = nlp(trump[2000000:2622073])"
   ]
  },
  {
   "cell_type": "code",
   "execution_count": 36,
   "metadata": {},
   "outputs": [],
   "source": [
    "from spacy_readability import Readability\n",
    "nlp.add_pipe(Readability())"
   ]
  },
  {
   "cell_type": "code",
   "execution_count": 38,
   "metadata": {},
   "outputs": [
    {
     "name": "stdout",
     "output_type": "stream",
     "text": [
      "Clinton Readability Statistics\n",
      "\n",
      "Flesch Kincaid Grade Level:  4.807858317246026\n",
      "Flesch Kincaid Reading Ease:   79.9887423661505\n",
      "Dale Chall:  7.4482788455837365\n",
      "Smog:  14.21603231612426\n",
      "Coleman Liau Index:  6.5396551549193696\n",
      "Automated Readability Index:  4.126606026937441\n",
      "Forcast 12.9\n",
      "\n",
      "Trump Readability Statistics\n",
      "\n",
      "Flesch Kincaid Grade Level:  3.676956292257813\n",
      "Flesch Kincaid Reading Ease:   84.09314950138184\n",
      "Dale Chall:  7.43812685357518\n",
      "Smog:  12.585993184840518\n",
      "Coleman Liau Index:  5.70772811670319\n",
      "Automated Readability Index:  2.925508068815391\n",
      "Forcast 11.833333333333334\n"
     ]
    }
   ],
   "source": [
    "print('Clinton Readability Statistics\\n')\n",
    "print('Flesch Kincaid Grade Level: ', clinton_spacydoc._.flesch_kincaid_grade_level)\n",
    "print('Flesch Kincaid Reading Ease:  ',clinton_spacydoc._.flesch_kincaid_reading_ease)\n",
    "print('Dale Chall: ', clinton_spacydoc._.dale_chall)\n",
    "print('Smog: ', clinton_spacydoc._.smog)\n",
    "print('Coleman Liau Index: ', clinton_spacydoc._.coleman_liau_index)\n",
    "print('Automated Readability Index: ', clinton_spacydoc._.automated_readability_index)\n",
    "print('Forcast', clinton_spacydoc._.forcast)\n",
    "\n",
    "trump_kincaid_gl = 0\n",
    "trump_kincaid_re = 0\n",
    "trump_dale_chall = 0\n",
    "trump_smog = 0\n",
    "trump_cl_index = 0\n",
    "trump_autori = 0\n",
    "trump_forcast = 0\n",
    "for trump in [trump_spacydoc1, trump_spacydoc2, trump_spacydoc3]:\n",
    "    trump_kincaid_gl += trump._.flesch_kincaid_grade_level\n",
    "    trump_kincaid_re += trump._.flesch_kincaid_reading_ease\n",
    "    trump_dale_chall += trump._.dale_chall\n",
    "    trump_smog += trump._.smog\n",
    "    trump_cl_index += trump._.coleman_liau_index\n",
    "    trump_autori += trump._.automated_readability_index\n",
    "    trump_forcast += trump._.forcast\n",
    "print('\\nTrump Readability Statistics\\n')\n",
    "print('Flesch Kincaid Grade Level: ', trump_kincaid_gl/3)\n",
    "print('Flesch Kincaid Reading Ease:  ',trump_kincaid_re/3)\n",
    "print('Dale Chall: ', trump_dale_chall/3)\n",
    "print('Smog: ', trump_smog/3)\n",
    "print('Coleman Liau Index: ', trump_cl_index/3)\n",
    "print('Automated Readability Index: ', trump_autori/3)\n",
    "print('Forcast', trump_forcast/3)"
   ]
  },
  {
   "cell_type": "markdown",
   "metadata": {},
   "source": [
    "(k) How did your hypothesis do? Briefly explain your assessment."
   ]
  },
  {
   "cell_type": "markdown",
   "metadata": {},
   "source": [
    "We can see that even though Trump's speeches were almost 4 numerous as large as Hillary's (~600k words vs 2.3m words), Hillary's readability stats are larger. \n",
    "\n",
    "Flesch Kincaid level is a whole grade above Trump's for hillary. \n",
    "\n",
    "Reading ease is lower for Hillary (More complicated text)\n",
    "\n",
    "Dale Chall is about the same.\n",
    "\n",
    "Coleman index for Hillary is a whole point above Trump's\n",
    "\n",
    "Smog is higher for Hillary by almost two levels.\n",
    "\n",
    "Automated Readability is higher for Hillary by a substantial margin. \n",
    "\n",
    "Forcast was also larger for Hillary"
   ]
  },
  {
   "cell_type": "markdown",
   "metadata": {},
   "source": [
    "(l) Did you learn anything surprising about your corpus or documents during the diversity and complexity analyses? Why or why not?"
   ]
  },
  {
   "cell_type": "markdown",
   "metadata": {},
   "source": [
    "Even though Hillary's corpus is smaller than Trump's by a large margin, her speech readability is \"harder\" by every metric shown above. This goes along the lines of what people have said regarding Trump's speeches being more universally able to be understood than Hillary's"
   ]
  },
  {
   "cell_type": "markdown",
   "metadata": {},
   "source": [
    "## 6. Sentiment analysis"
   ]
  },
  {
   "cell_type": "markdown",
   "metadata": {},
   "source": [
    "(a) Finally, we're going to conduct sentiment analysis on your corpus. You may use either a dictionary-based analysis or a classifier (or both!). Which approach will you use, and why? (If you're using a dictionary-based approach, comment briefly on which dictionary(ies) may be helpful.)"
   ]
  },
  {
   "cell_type": "markdown",
   "metadata": {},
   "source": [
    "I am using an already defined NLTK pre-trained sentiment analyzer from https://realpython.com/python-nltk-sentiment-analysis/.\n",
    "\n",
    "I've read it is a bit worse with lengthy texts so I'm not sure if this is the best use for it, but we'll try that out."
   ]
  },
  {
   "cell_type": "markdown",
   "metadata": {},
   "source": [
    "(b) Generate one hypothesis you can test regarding the sentiment of documents in your corpus. This can be about polarity (positive vs. negative) or something else, as is appropriate for your work and interests."
   ]
  },
  {
   "cell_type": "markdown",
   "metadata": {},
   "source": [
    "Trump speeches are going to be more pessimistic in general than Hillary's"
   ]
  },
  {
   "cell_type": "markdown",
   "metadata": {},
   "source": [
    "(c) Test your hypothesis with sentiment analysis!"
   ]
  },
  {
   "cell_type": "code",
   "execution_count": 50,
   "metadata": {},
   "outputs": [
    {
     "name": "stdout",
     "output_type": "stream",
     "text": [
      "{'neg': 0.061, 'neu': 0.767, 'pos': 0.172, 'compound': 1.0}\n",
      "{'neg': 0.109, 'neu': 0.742, 'pos': 0.15, 'compound': 1.0}\n"
     ]
    }
   ],
   "source": [
    "from nltk.sentiment import SentimentIntensityAnalyzer\n",
    "sia = SentimentIntensityAnalyzer()\n",
    "print(sia.polarity_scores(clinton))\n",
    "print(sia.polarity_scores(trump))"
   ]
  },
  {
   "cell_type": "markdown",
   "metadata": {},
   "source": [
    "(d) How did your hypothesis hold up? Briefly explain your assessment."
   ]
  },
  {
   "cell_type": "markdown",
   "metadata": {},
   "source": [
    "So Trump and Hillary had close to the same Neutral score, but Trump's positive words are less than Hillary's by this index's measurement, and substantially larger in the negative territory, going along with my hypothesis."
   ]
  },
  {
   "cell_type": "markdown",
   "metadata": {},
   "source": [
    "(e) Did anything you learned about your corpus during your sentiment analysis surprise you? Why or why not?"
   ]
  },
  {
   "cell_type": "markdown",
   "metadata": {},
   "source": [
    "Not really surprising, perhaps if you ran this on democrat and republican presidents who have more of a professional role instead of trying to lure people to vote for them the statistics and analysis would've been completely different."
   ]
  },
  {
   "cell_type": "markdown",
   "metadata": {},
   "source": [
    "## 8. Summing up"
   ]
  },
  {
   "cell_type": "markdown",
   "metadata": {},
   "source": [
    "(a) Overall, do you think that these particular analyses were helpful in better understanding your questions and hypotheses about these documents? (It's ok if the answer is no -- not all documents lend themselves to the analyses we've focused on.) Why or why not?"
   ]
  },
  {
   "cell_type": "markdown",
   "metadata": {},
   "source": [
    "I feel these types of analyses work amazing for my type of data because there's definitely a lot of nuances in political speeches."
   ]
  },
  {
   "cell_type": "markdown",
   "metadata": {},
   "source": [
    "(b) What is the greatest strength of the analysis you conducted in this assignment?"
   ]
  },
  {
   "cell_type": "markdown",
   "metadata": {},
   "source": [
    "Definitely the biggest strenght is finding differences in speech strategies, Trump's speeches were far more effective, perhaps, in appealing to more people than Hillary's.\n",
    "\n",
    "I have no idea if Hillary actually gave 1/4 of the speeches Trump did, but perhaps Trump's massive amounts of speeches combined with a simpler vocabulary and more negative terms to appeal to emotions made the perfect campaign."
   ]
  },
  {
   "cell_type": "markdown",
   "metadata": {},
   "source": [
    "(c) What is the greatest weakness in the analysis you conducted in this assignment? (Remember, your answers can still be brief!)"
   ]
  },
  {
   "cell_type": "markdown",
   "metadata": {},
   "source": [
    "I feel my biggest weakness is having so little Clinton speeches, I couldn't find another database with both candidates' speeches."
   ]
  },
  {
   "cell_type": "markdown",
   "metadata": {},
   "source": [
    "(d) What is an additional analysis (or analyses) that you imagine you could do in the future that would help you understand the questions you have about this corpus? The main concept we aren't including in this homework is topic modeling, but you're welcome to comment on anything else that perhaps you've encountered in the wild or simply think up on your own!"
   ]
  },
  {
   "cell_type": "markdown",
   "metadata": {},
   "source": [
    "I could've easily found this out but I'm interested in seeing what each politican had in their platform that the other didn't. For example, hillary probably talked more about the environment and healthcare than Trump, and trump probably talked about taxes and immigration more than Hillary. I guess I'll find this out later.\n",
    "\n",
    "Also, might I add, I had way more fun in this assignment than the last one, perhaps because sentiment analysis is more interesting than finding tokens in a text, but I feel like I could really make some cool personal projects using the analysis I used here!\n",
    "\n",
    "My project is on politician's twitter bios but I was originally doing sport's discussions. I'll see if I can get it done by the end of the semester but if I ever do I'll be sure to show Prof. Jones-Rooy the different analyses and results I made happen!"
   ]
  },
  {
   "cell_type": "markdown",
   "metadata": {},
   "source": [
    "# The end! \n",
    "\n",
    "Congratulations on finishing your second assignment! Hopefully this was a good chance to practice everything we've gone over in class, as well as to have an opportunity to think about analysing texts in the context of hypotheses. And hopefully it was even fun (and not too tedious!!). \n",
    "\n",
    "If nothing else, you've now already done a lot of the work that's needed for the project!"
   ]
  }
 ],
 "metadata": {
  "kernelspec": {
   "display_name": "Python 3",
   "language": "python",
   "name": "python3"
  },
  "language_info": {
   "codemirror_mode": {
    "name": "ipython",
    "version": 3
   },
   "file_extension": ".py",
   "mimetype": "text/x-python",
   "name": "python",
   "nbconvert_exporter": "python",
   "pygments_lexer": "ipython3",
   "version": "3.8.3"
  }
 },
 "nbformat": 4,
 "nbformat_minor": 4
}
